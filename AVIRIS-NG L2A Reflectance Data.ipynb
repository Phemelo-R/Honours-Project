{
 "cells": [
  {
   "cell_type": "code",
   "execution_count": 20,
   "id": "0f399f83-29db-4a8d-883b-9b4b5e7175eb",
   "metadata": {},
   "outputs": [],
   "source": [
    "# Python imports \n",
    "from osgeo import gdal\n",
    "import numpy as np\n",
    "import matplotlib.pyplot as plt\n",
    "from spectral.io import envi\n",
    "from pyproj import Proj\n",
    "import os\n",
    "from glob import glob"
   ]
  },
  {
   "cell_type": "code",
   "execution_count": 22,
   "id": "b3544b50-962f-4351-90fc-73ddea647741",
   "metadata": {},
   "outputs": [
    {
     "name": "stdout",
     "output_type": "stream",
     "text": [
      "ang20231109t133124_005_L2A_OE_main_27577724_RFL_ORT_QL.tif\n",
      "ang20231113t104533_004_L2A_OE_main_27577724_RFL_ORT_QL.tif\n",
      "ang20231113t131251_003_L2A_OE_main_27577724_RFL_ORT_QL.tif\n",
      "ang20231126t101852_017_L2A_OE_main_27577724_RFL_ORT_QL.tif\n",
      "ang20231126t101852_018_L2A_OE_main_27577724_RFL_ORT_QL.tif\n",
      "ang20231126t103917_017_L2A_OE_main_27577724_RFL_ORT_QL.tif\n"
     ]
    }
   ],
   "source": [
    "# Examine Adjacent Quick Look geoTIFF Scenes using GDAL\n",
    "for geotiff in glob(\"AVIRIS-NG/*.tif\"):\n",
    "    print(f\"{os.path.basename(geotiff)}\")"
   ]
  },
  {
   "cell_type": "code",
   "execution_count": 24,
   "id": "7e710613-de8a-4081-9154-80bd17f22e9a",
   "metadata": {},
   "outputs": [
    {
     "name": "stdout",
     "output_type": "stream",
     "text": [
      "Bands_018:\t3\n",
      "Rows_018:\t560\n",
      "Cols_018:\t676\n",
      "\n",
      "\n",
      "Bands_005:\t3\n",
      "Rows_005:\t791\n",
      "Cols_005:\t654\n",
      "\n",
      "\n",
      "Bands_003:\t3\n",
      "Rows_003:\t748\n",
      "Cols_003:\t666\n"
     ]
    }
   ],
   "source": [
    "# open and read tif files for comparison\n",
    "ql_018 = gdal.Open('AVIRIS-NG/ang20231126t101852_018_L2A_OE_main_27577724_RFL_ORT_QL.tif')\n",
    "ql_005 = gdal.Open('AVIRIS-NG/ang20231109t133124_005_L2A_OE_main_27577724_RFL_ORT_QL.tif')\n",
    "ql_004 = gdal.Open('AVIRIS-NG/ang20231113t104533_004_L2A_OE_main_27577724_RFL_ORT_QL.tif')\n",
    "\n",
    "nbands_018 = ql_018.RasterCount\n",
    "ncols_018 = ql_018.RasterXSize\n",
    "nrows_018 = ql_018.RasterYSize\n",
    "\n",
    "nbands_005 = ql_005.RasterCount\n",
    "ncols_005 = ql_005.RasterXSize\n",
    "nrows_005 = ql_005.RasterYSize\n",
    "\n",
    "nbands_004 = ql_004.RasterCount\n",
    "ncols_004 = ql_004.RasterXSize\n",
    "nrows_004 = ql_004.RasterYSize\n",
    "\n",
    "print(f\"Bands_018:\\t{nbands_018}\")\n",
    "print(f\"Rows_018:\\t{nrows_018}\")\n",
    "print(f\"Cols_018:\\t{ncols_018}\")\n",
    "print(\"\\n\")\n",
    "print(f\"Bands_005:\\t{nbands_005}\")\n",
    "print(f\"Rows_005:\\t{nrows_005}\")\n",
    "print(f\"Cols_005:\\t{ncols_005}\")\n",
    "print(\"\\n\")\n",
    "print(f\"Bands_003:\\t{nbands_004}\")\n",
    "print(f\"Rows_003:\\t{nrows_004}\")\n",
    "print(f\"Cols_003:\\t{ncols_004}\")"
   ]
  },
  {
   "cell_type": "code",
   "execution_count": 26,
   "id": "903e8fdb-77b4-42c8-81af-9f245deeb4ce",
   "metadata": {},
   "outputs": [
    {
     "data": {
      "text/plain": [
       "'PROJCS[\"WGS 84 / UTM zone 34S\",GEOGCS[\"WGS 84\",DATUM[\"WGS_1984\",SPHEROID[\"WGS 84\",6378137,298.257223563,AUTHORITY[\"EPSG\",\"7030\"]],AUTHORITY[\"EPSG\",\"6326\"]],PRIMEM[\"Greenwich\",0,AUTHORITY[\"EPSG\",\"8901\"]],UNIT[\"degree\",0.0174532925199433,AUTHORITY[\"EPSG\",\"9122\"]],AUTHORITY[\"EPSG\",\"4326\"]],PROJECTION[\"Transverse_Mercator\"],PARAMETER[\"latitude_of_origin\",0],PARAMETER[\"central_meridian\",21],PARAMETER[\"scale_factor\",0.9996],PARAMETER[\"false_easting\",500000],PARAMETER[\"false_northing\",10000000],UNIT[\"metre\",1,AUTHORITY[\"EPSG\",\"9001\"]],AXIS[\"Easting\",EAST],AXIS[\"Northing\",NORTH],AUTHORITY[\"EPSG\",\"32734\"]]'"
      ]
     },
     "execution_count": 26,
     "metadata": {},
     "output_type": "execute_result"
    }
   ],
   "source": [
    "ql_018.GetProjection()"
   ]
  },
  {
   "cell_type": "code",
   "execution_count": 28,
   "id": "7ce3d60d-c0b7-4b88-aa20-f9e9af60743c",
   "metadata": {},
   "outputs": [
    {
     "name": "stdout",
     "output_type": "stream",
     "text": [
      "0...10...20...30...40...50...60...70...80...90...100 - done.\n",
      "Bands_vrt:\t3\n",
      "Rows_vrt:\t13151\n",
      "Cols_vrt:\t1590\n"
     ]
    }
   ],
   "source": [
    "# Create a Virtual Raster of the 2 Adjacent AVIRIS-NG Scenes\n",
    "# build vrt - using AVIRIS-NG quicklook images \n",
    "\n",
    "# running gdalbuilvrt as a gdal command line using the '!' in front says do this as a command, not as python\n",
    "# using scences from the Table Mountain West side\n",
    "\n",
    "!gdalbuildvrt tm_mosaic.vrt AVIRIS-NG/*.tif\n",
    "\n",
    "# read in vrt, ql ~ quicklook\n",
    "tm_vrt = gdal.Open('tm_mosaic.vrt')\n",
    "\n",
    "nbands_vrt = tm_vrt.RasterCount\n",
    "ncols_vrt = tm_vrt.RasterXSize\n",
    "nrows_vrt = tm_vrt.RasterYSize\n",
    "\n",
    "print(f\"Bands_vrt:\\t{nbands_vrt}\")\n",
    "print(f\"Rows_vrt:\\t{nrows_vrt}\")\n",
    "print(f\"Cols_vrt:\\t{ncols_vrt}\")"
   ]
  },
  {
   "cell_type": "code",
   "execution_count": 30,
   "id": "04e0c6a7-9e5c-454a-a54b-1312c950188d",
   "metadata": {},
   "outputs": [
    {
     "name": "stdout",
     "output_type": "stream",
     "text": [
      "(3, 13151, 1590)\n"
     ]
    }
   ],
   "source": [
    "# Examine AVIRIS-NG Quiklook Reflectance Data as a Numerical Array\n",
    "\n",
    "# Recall that we created the quicklook virtual raster (ql_vrt) from two adjacent scenes\n",
    "tm_array = tm_vrt.ReadAsArray()\n",
    "\n",
    "# look at the shape. GDAL reads the array as band,x,y.  \n",
    "print(tm_array.shape)     "
   ]
  },
  {
   "cell_type": "code",
   "execution_count": 32,
   "id": "0e59153b-eb06-4b0e-ba03-486182da0989",
   "metadata": {},
   "outputs": [
    {
     "name": "stdout",
     "output_type": "stream",
     "text": [
      "(13151, 1590, 3)\n"
     ]
    }
   ],
   "source": [
    "# To plot the array with matplotlib, the data need to be arranged as y, x, band.\n",
    "# We'll transpose the data\n",
    "trans_array = tm_array.transpose((1,2,0))\n",
    "print(trans_array.shape)"
   ]
  },
  {
   "cell_type": "code",
   "execution_count": 8,
   "id": "976d7c95-cd97-4127-ae53-2c030fe3b65d",
   "metadata": {},
   "outputs": [],
   "source": [
    "# To demonstrate that data needs transposed, this will give an error because the data needs to be transposed\n",
    "# This is the error:  TypeError: Invalid shape (3, 1268, 1216) for image data\n",
    "# plt.imshow(tm_array)"
   ]
  },
  {
   "cell_type": "code",
   "execution_count": 34,
   "id": "36b9746f-e292-428b-9fd3-af78b7fa23d1",
   "metadata": {},
   "outputs": [
    {
     "data": {
      "text/plain": [
       "<matplotlib.image.AxesImage at 0x1e5ba1af380>"
      ]
     },
     "execution_count": 34,
     "metadata": {},
     "output_type": "execute_result"
    },
    {
     "data": {
      "image/png": "[encoded data removed]",
      "text/plain": [
       "<Figure size 1000x700 with 1 Axes>"
      ]
     },
     "metadata": {},
     "output_type": "display_data"
    }
   ],
   "source": [
    "# The imshow() function in the pyplot module of matplotlib library is used to display data as an image.\n",
    "plt.rcParams['figure.figsize'] = [10,7]\n",
    "plt.imshow(trans_array)"
   ]
  },
  {
   "cell_type": "code",
   "execution_count": null,
   "id": "58688f7c-e5d0-4231-9a25-6f261a21aa2a",
   "metadata": {},
   "outputs": [],
   "source": []
  }
 ],
 "metadata": {
  "kernelspec": {
   "display_name": "Python [conda env:base] *",
   "language": "python",
   "name": "conda-base-py"
  },
  "language_info": {
   "codemirror_mode": {
    "name": "ipython",
    "version": 3
   },
   "file_extension": ".py",
   "mimetype": "text/x-python",
   "name": "python",
   "nbconvert_exporter": "python",
   "pygments_lexer": "ipython3",
   "version": "3.12.3"
  }
 },
 "nbformat": 4,
 "nbformat_minor": 5
}
